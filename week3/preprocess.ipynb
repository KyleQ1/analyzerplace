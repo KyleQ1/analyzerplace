{
 "cells": [
  {
   "cell_type": "code",
   "execution_count": 9,
   "metadata": {},
   "outputs": [],
   "source": [
    "import polars as pl\n",
    "import numpy as np"
   ]
  },
  {
   "cell_type": "code",
   "execution_count": 14,
   "metadata": {},
   "outputs": [],
   "source": [
    "df = (\n",
    "    pl.scan_csv('../2022_place_canvas_history.csv')\n",
    ")\n",
    "\n",
    "color_mapping = {\n",
    "    \"#00CC78\": \"DarkCyan\",\n",
    "    \"#D4D7D9\": \"LightGray\",\n",
    "    \"#009EAA\": \"DarkCyan\",\n",
    "    \"#94B3FF\": \"SkyBlue\",\n",
    "    \"#515252\": \"Gray\",\n",
    "    \"#00A368\": \"Teal\",\n",
    "    \"#7EED56\": \"Lime\",\n",
    "    \"#9C6926\": \"Brown\",\n",
    "    \"#FF4500\": \"Red\",\n",
    "    \"#00CCC0\": \"Turquoise\",\n",
    "    \"#FFD635\": \"Gold\",\n",
    "    \"#FFF8B8\": \"Beige\",\n",
    "    \"#FFA800\": \"Orange\",\n",
    "    \"#6D482F\": \"Brown\",\n",
    "    \"#00756F\": \"Teal\",\n",
    "    \"#FF99AA\": \"Pink\",\n",
    "    \"#FFFFFF\": \"White\",\n",
    "    \"#6A5CFF\": \"SkyBlue\",\n",
    "    \"#BE0039\": \"Maroon\",\n",
    "    \"#B44AC0\": \"Purple\",\n",
    "    \"#E4ABFF\": \"Lavender\",\n",
    "    \"#51E9F4\": \"Turquoise\",\n",
    "    \"#811E9F\": \"Purple\",\n",
    "    \"#2450A4\": \"DarkBlue\",\n",
    "    \"#FF3881\": \"Salmon\",\n",
    "    \"#000000\": \"Black\",\n",
    "    \"#6D001A\": \"DarkRed\",\n",
    "    \"#3690EA\": \"SkyBlue\",\n",
    "    \"#DE107F\": \"Pink\",\n",
    "    \"#FFB470\": \"Salmon\",\n",
    "    \"#898D90\": \"Gray\",\n",
    "    \"#493AC1\": \"Indigo\"\n",
    "}\n",
    "\n",
    "output_dir = \"preprocessed\"\n",
    "\n",
    "# Map hex codes to color names\n",
    "df = df.with_columns(\n",
    "    pl.col(\"pixel_color\").replace(color_mapping),\n",
    "    pl.col(\"user_id\").hash(seed=0),\n",
    "    pl.col(\"timestamp\").str.strptime(pl.Datetime, format=\"%Y-%m-%d %H:%M:%S%.f UTC\", strict=False)\n",
    ")\n",
    "\n",
    "df = df.drop(\"coordinate\")\n",
    "\n",
    "# Sort the DataFrame by timestamp\n",
    "df = df.sort(\"timestamp\")\n",
    "\n",
    "df.collect().write_parquet(\"rplace.parquet\", compression='lz4')"
   ]
  }
 ],
 "metadata": {
  "kernelspec": {
   "display_name": "Python 3",
   "language": "python",
   "name": "python3"
  },
  "language_info": {
   "codemirror_mode": {
    "name": "ipython",
    "version": 3
   },
   "file_extension": ".py",
   "mimetype": "text/x-python",
   "name": "python",
   "nbconvert_exporter": "python",
   "pygments_lexer": "ipython3",
   "version": "3.12.0"
  }
 },
 "nbformat": 4,
 "nbformat_minor": 2
}
